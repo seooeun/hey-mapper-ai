{
 "cells": [
  {
   "cell_type": "code",
   "execution_count": 245,
   "metadata": {},
   "outputs": [],
   "source": [
    "import os \n",
    "from openai import OpenAI # OpenAI API\n",
    "from dotenv import load_dotenv # 환경 변수 관리 라이브러리"
   ]
  },
  {
   "cell_type": "code",
   "execution_count": 246,
   "metadata": {},
   "outputs": [
    {
     "data": {
      "text/plain": [
       "True"
      ]
     },
     "execution_count": 246,
     "metadata": {},
     "output_type": "execute_result"
    }
   ],
   "source": [
    "load_dotenv()"
   ]
  },
  {
   "cell_type": "code",
   "execution_count": 247,
   "metadata": {},
   "outputs": [],
   "source": [
    "client = OpenAI(api_key=os.getenv('OPENAI_API_KEY'))"
   ]
  },
  {
   "cell_type": "code",
   "execution_count": 248,
   "metadata": {},
   "outputs": [
    {
     "data": {
      "text/plain": [
       "set"
      ]
     },
     "execution_count": 248,
     "metadata": {},
     "output_type": "execute_result"
    }
   ],
   "source": [
    "# 경남대 정문으로 가는 길 찾아줘.\n",
    "# 목적지를 집으로 설정해줘.\n",
    "user_content = '경남대학교 정문으로 가는 길 찾아줘'\n",
    "favorites_set = {'집', '직장', '학교'}\n",
    "type(favorites_set)"
   ]
  },
  {
   "cell_type": "code",
   "execution_count": 249,
   "metadata": {},
   "outputs": [],
   "source": [
    "# 한국어 답변. 장소확인.\n",
    "# 당신은 목적지를 추출하는 AI입니다. \n",
    "# role에서 user의 content를 확인해서 장소를 추출하고, 즐겨찾기 리스트에 포함 여부를 확인하세요. \n",
    "# 답변은 한국어로 답하고 대소문자는 구분하지 않습니다. '\n",
    "message_1 = {\n",
    "    \"role\": \"system\",\n",
    "    \"content\": f'당신은 목적지를 추출하는 AI입니다. role에서 user의 content를 확인해서 장소를 추출하고, 즐겨찾기 리스트에 포함 여부를 확인하세요. 답변은 한국어로 답하고 대소문자는 구분하지 않습니다. '\n",
    "}\n",
    "\n",
    "# 즐겨찾기 리스트\n",
    "message_2 = {\n",
    "    \"role\": \"system\",\n",
    "    \"content\": f'즐겨찾기 리스트: {favorites_set}'\n",
    "}\n"
   ]
  },
  {
   "cell_type": "code",
   "execution_count": 250,
   "metadata": {},
   "outputs": [],
   "source": [
    "# 프롬프트\n",
    "# 규칙:\n",
    "# 1. 문장에서 목적지를 추출합니다.\\n\n",
    "# 2. 목적지가 즐겨찾기 리스트에 포함되는지 확인합니다.\\n\n",
    "# 3. 목적지를 추출했으나 즐겨찾기 리스트에 포함되지 않으면 '목적지:[목적지명]'이라고 출력합니다.\\n\n",
    "# 4. 추출된 목적지가 즐겨찾기 리스트에 포함되면 '즐겨찾기:[목적지명]'이라고 출력합니다.\\n\n",
    "# 5. 문장에서 목적지를 추출하지 못했으면 '목적지:없음'이라고 출력합니다.\n",
    "message_3_content = f\"규칙:\\n1. 문장에서 목적지를 추출합니다.\\n2. 목적지가 즐겨찾기 리스트에 포함되는지 확인합니다.\\n3. 목적지를 추출했으나 즐겨찾기 리스트에 포함되지 않으면 '목적지:[목적지명]'이라고 출력합니다.\\n4. 추출된 목적지가 즐겨찾기 리스트에 포함되면 '즐겨찾기:[목적지명]'이라고 출력합니다.\\n5. 문장에서 목적지를 추출하지 못했으면 '목적지:없음'이라고 출력합니다.\""
   ]
  },
  {
   "cell_type": "code",
   "execution_count": 251,
   "metadata": {},
   "outputs": [],
   "source": [
    "message_3 = {\n",
    "    \"role\": \"system\",\n",
    "    \"content\": message_3_content\n",
    "}"
   ]
  },
  {
   "cell_type": "code",
   "execution_count": 252,
   "metadata": {},
   "outputs": [],
   "source": [
    "# 사용자 메시지\n",
    "user_message = {\n",
    "    \"role\": \"user\",\n",
    "    \"content\": user_content\n",
    "}"
   ]
  },
  {
   "cell_type": "code",
   "execution_count": 253,
   "metadata": {},
   "outputs": [],
   "source": [
    "# GPT-4o mini : GPT-4o 모델에 비해 작고 저렴함.\n",
    "completion = client.chat.completions.create(\n",
    "    messages=[\n",
    "        message_1, message_2, message_3, user_message\n",
    "    ],\n",
    "    model=\"gpt-4o-mini-2024-07-18\",\n",
    ")"
   ]
  },
  {
   "cell_type": "code",
   "execution_count": 254,
   "metadata": {},
   "outputs": [
    {
     "name": "stdout",
     "output_type": "stream",
     "text": [
      "목적지:경남대학교 정문\n"
     ]
    }
   ],
   "source": [
    "result = completion.choices[0].message.content\n",
    "print(result)"
   ]
  },
  {
   "cell_type": "code",
   "execution_count": 255,
   "metadata": {},
   "outputs": [
    {
     "data": {
      "text/plain": [
       "['목적지', '경남대학교 정문']"
      ]
     },
     "execution_count": 255,
     "metadata": {},
     "output_type": "execute_result"
    }
   ],
   "source": [
    "result.split(':')"
   ]
  }
 ],
 "metadata": {
  "kernelspec": {
   "display_name": "mapper",
   "language": "python",
   "name": "python3"
  },
  "language_info": {
   "codemirror_mode": {
    "name": "ipython",
    "version": 3
   },
   "file_extension": ".py",
   "mimetype": "text/x-python",
   "name": "python",
   "nbconvert_exporter": "python",
   "pygments_lexer": "ipython3",
   "version": "3.9.21"
  }
 },
 "nbformat": 4,
 "nbformat_minor": 4
}
