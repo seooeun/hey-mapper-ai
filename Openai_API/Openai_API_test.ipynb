{
 "cells": [
  {
   "cell_type": "code",
   "execution_count": 1,
   "metadata": {},
   "outputs": [],
   "source": [
    "import os\n",
    "from openai import OpenAI\n",
    "from dotenv import load_dotenv"
   ]
  },
  {
   "cell_type": "code",
   "execution_count": 2,
   "metadata": {},
   "outputs": [
    {
     "data": {
      "text/plain": [
       "True"
      ]
     },
     "execution_count": 2,
     "metadata": {},
     "output_type": "execute_result"
    }
   ],
   "source": [
    "load_dotenv()"
   ]
  },
  {
   "cell_type": "code",
   "execution_count": 3,
   "metadata": {},
   "outputs": [],
   "source": [
    "client = OpenAI(api_key=os.getenv('OPENAI_API_KEY'))"
   ]
  },
  {
   "cell_type": "code",
   "execution_count": 27,
   "metadata": {},
   "outputs": [],
   "source": [
    "content = '집으로 가는 길 찾아줘.'\n",
    "favorites_list = ['집', '직장', '학교']"
   ]
  },
  {
   "cell_type": "code",
   "execution_count": 52,
   "metadata": {},
   "outputs": [],
   "source": [
    "# 한국어 답변. 장소확인.\n",
    "message_1 = {\n",
    "    \"role\": \"system\",\n",
    "    \"content\": f'role에서 user의 content를 확인해서서 장소를 추출하고, 즐겨찾기 리스트에 포함 여부를 확인하세요. 답변은 한국어로 답하세요.'\n",
    "}"
   ]
  },
  {
   "cell_type": "code",
   "execution_count": 53,
   "metadata": {},
   "outputs": [],
   "source": [
    "# 즐겨찾기 리스트트\n",
    "message_2 = {\n",
    "    \"role\": \"system\",\n",
    "    \"content\": f'즐겨찾기 리스트: {favorites_list}'\n",
    "}"
   ]
  },
  {
   "cell_type": "code",
   "execution_count": 61,
   "metadata": {},
   "outputs": [],
   "source": [
    "# 프롬프트\n",
    "# 규칙:\n",
    "# 1. 문장에서 목적지를 하나 이상 추출합니다. (다중 목적지 처리)\\n\n",
    "# 2. 각 목적지에 대해 즐겨찾기 리스트에 포함되는지 확인합니다.\\n\n",
    "# 3. 추출된 목적지가 즐겨찾기 리스트에 포함되지 않으면 '[목적지 이름], 0'이라고 출력합니다.\\n\n",
    "# 4. 추출된 목적지가 즐겨찾기 리스트에 포함되면 '[목적지 이름], 1'이라고 출력합니다.\\n\n",
    "# 5. 문장에서 목적지를 추출하지 못했거나, 즐겨찾기 리스트에 해당 목적지가 없으면 '0, 0'이라고 출력합니다.\\n\n",
    "# 6. 불완전한 입력일 경우 '0, 0'이라고 출력합니다.\\n\n",
    "# 7. 대소문자는 구분하지 않으며, 부분 일치도 처리합니다. (예: '홍대'와 '홍대입구'는 동일한 목적지로 처리)\\n\n",
    "\n",
    "\n",
    "message_3_content = f\"규칙:\\n1. 문장에서 목적지를 하나 이상 추출합니다. (다중 목적지 처리)\\n2. 각 목적지에 대해 즐겨찾기 리스트에 포함되는지 확인합니다.\\n3. 추출된 목적지가 즐겨찾기 리스트에 포함되지 않으면 '[목적지 이름], 0'이라고 출력합니다.\\n4. 추출된 목적지가 즐겨찾기 리스트에 포함되면 '[목적지 이름], 1'이라고 출력합니다.\\n5. 문장에서 목적지를 추출하지 못했거나, 즐겨찾기 리스트에 해당 목적지가 없으면 '0, 0'이라고 출력합니다.\\n6. 불완전한 입력일 경우 '0, 0'이라고 출력합니다.\\n7. 대소문자는 구분하지 않으며, 부분 일치도 처리합니다. (예: '홍대'와 '홍대입구'는 동일한 목적지로 처리)\""
   ]
  },
  {
   "cell_type": "code",
   "execution_count": 62,
   "metadata": {},
   "outputs": [],
   "source": [
    "message_3 = {\n",
    "    \"role\": \"system\",\n",
    "    \"content\": message_3_content\n",
    "}"
   ]
  },
  {
   "cell_type": "code",
   "execution_count": 63,
   "metadata": {},
   "outputs": [],
   "source": [
    "# 유저 입력\n",
    "message_user = {\n",
    "    \"role\": \"user\",\n",
    "    \"content\": content\n",
    "}"
   ]
  },
  {
   "cell_type": "code",
   "execution_count": 64,
   "metadata": {},
   "outputs": [],
   "source": [
    "completion = client.chat.completions.create(\n",
    "    messages=[\n",
    "        message_1, message_2, message_3, message_user\n",
    "    ],\n",
    "    model=\"gpt-4o-mini-2024-07-18\",\n",
    ")"
   ]
  },
  {
   "cell_type": "code",
   "execution_count": 65,
   "metadata": {},
   "outputs": [
    {
     "name": "stdout",
     "output_type": "stream",
     "text": [
      "'집', 1\n"
     ]
    }
   ],
   "source": [
    "print(completion.choices[0].message.content)"
   ]
  },
  {
   "cell_type": "code",
   "execution_count": null,
   "metadata": {},
   "outputs": [],
   "source": [
    "import "
   ]
  },
  {
   "cell_type": "code",
   "execution_count": null,
   "metadata": {},
   "outputs": [],
   "source": [
    "test_case_df = "
   ]
  }
 ],
 "metadata": {
  "kernelspec": {
   "display_name": "mapper",
   "language": "python",
   "name": "python3"
  },
  "language_info": {
   "codemirror_mode": {
    "name": "ipython",
    "version": 3
   },
   "file_extension": ".py",
   "mimetype": "text/x-python",
   "name": "python",
   "nbconvert_exporter": "python",
   "pygments_lexer": "ipython3",
   "version": "3.9.21"
  }
 },
 "nbformat": 4,
 "nbformat_minor": 4
}
