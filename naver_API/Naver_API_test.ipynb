{
 "cells": [
  {
   "cell_type": "markdown",
   "metadata": {
    "vscode": {
     "languageId": "plaintext"
    }
   },
   "source": [
    "## 2. Naver 오픈 API\n",
    "---"
   ]
  },
  {
   "cell_type": "markdown",
   "metadata": {},
   "source": [
    "계획: <br> \n",
    "1. 네이버 오픈 검색 API를 사용하여 장소명을 좌표로 반환.\n",
    "2. 좌표값으로 경로 검색 요청."
   ]
  },
  {
   "cell_type": "code",
   "execution_count": 17,
   "metadata": {},
   "outputs": [],
   "source": [
    "import os \n",
    "import sys\n",
    "import json\n",
    "import urllib.request\n",
    "from dotenv import load_dotenv # 환경 변수 관리 라이브러리"
   ]
  },
  {
   "cell_type": "code",
   "execution_count": 18,
   "metadata": {},
   "outputs": [
    {
     "data": {
      "text/plain": [
       "True"
      ]
     },
     "execution_count": 18,
     "metadata": {},
     "output_type": "execute_result"
    }
   ],
   "source": [
    "load_dotenv()"
   ]
  },
  {
   "cell_type": "code",
   "execution_count": 19,
   "metadata": {},
   "outputs": [],
   "source": [
    "client_id = os.getenv('NAVER_CLIENT_ID')\n",
    "client_secret = os.getenv('NAVER_CLIENT_SECRET_ID')"
   ]
  },
  {
   "cell_type": "markdown",
   "metadata": {},
   "source": [
    "### 1. 네이버 오픈 검색 API를 사용하여 장소명을 좌표로 반환."
   ]
  },
  {
   "cell_type": "code",
   "execution_count": 20,
   "metadata": {},
   "outputs": [],
   "source": [
    "query = \"경남대학교정문\"  # 검색할 장소명"
   ]
  },
  {
   "cell_type": "code",
   "execution_count": 21,
   "metadata": {},
   "outputs": [],
   "source": [
    "# URL 인코딩\n",
    "encText = urllib.parse.quote(query)\n",
    "url = \"https://openapi.naver.com/v1/search/local.json?query=\" + encText # JSON 결과\n",
    "# url = \"https://openapi.naver.com/v1/search/local.xml?query=\" + encText # XML 결과\n",
    "\n",
    "# 요청\n",
    "request = urllib.request.Request(url)\n",
    "request.add_header(\"X-Naver-Client-Id\",client_id)\n",
    "request.add_header(\"X-Naver-Client-Secret\",client_secret)\n",
    "\n",
    "# API 호출\n",
    "response = urllib.request.urlopen(request)\n",
    "rescode = response.getcode()"
   ]
  },
  {
   "cell_type": "code",
   "execution_count": 22,
   "metadata": {},
   "outputs": [],
   "source": [
    "if(rescode==200):\n",
    "    response_body = response.read()\n",
    "    data = json.loads(response_body.decode('utf-8'))  # jason -> dict 변환\n",
    "    # if \"items\" in data and len(data[\"items\"]) > 0:\n",
    "    \n",
    "else:\n",
    "    print(\"Error Code:\" + rescode)"
   ]
  },
  {
   "cell_type": "code",
   "execution_count": null,
   "metadata": {},
   "outputs": [],
   "source": [
    "# 결과 출력\n",
    "data"
   ]
  },
  {
   "cell_type": "code",
   "execution_count": 32,
   "metadata": {},
   "outputs": [
    {
     "name": "stdout",
     "output_type": "stream",
     "text": [
      "위도(mapy): 351807521\n",
      "경도(mapx): 1285570100\n"
     ]
    }
   ],
   "source": [
    "# 좌표값 추출\n",
    "place = data[\"items\"][0]  # 첫 번째 검색 결과\n",
    "place[\"title\"].replace(\"<b>\", \"\").replace(\"</b>\", \"\")  # HTML 태그 제거\n",
    "mapx = place[\"mapx\"]\n",
    "mapy = place[\"mapy\"]\n",
    "\n",
    "print(f\"위도(mapy): {mapy}\")\n",
    "print(f\"경도(mapx): {mapx}\")\n"
   ]
  },
  {
   "cell_type": "code",
   "execution_count": 36,
   "metadata": {},
   "outputs": [
    {
     "name": "stdout",
     "output_type": "stream",
     "text": [
      "변환된 위도: 35.1807521, 변환된 경도: 128.55701\n"
     ]
    }
   ],
   "source": [
    "# 좌표값 타입을 str에서 float로 변환\n",
    "longitude = float(mapx) / 10**7\n",
    "latitude = float(mapy) / 10**7\n",
    "\n",
    "print(f\"변환된 위도: {latitude}, 변환된 경도: {longitude}\")"
   ]
  },
  {
   "cell_type": "markdown",
   "metadata": {},
   "source": []
  },
  {
   "cell_type": "markdown",
   "metadata": {},
   "source": [
    "1. 회원가입 요청\n"
   ]
  },
  {
   "cell_type": "code",
   "execution_count": null,
   "metadata": {},
   "outputs": [],
   "source": [
    "import requests\n",
    "# 219.254.182.113:5000\n",
    "# localhost:5000\n",
    "url = \"http://219.254.182.113:5000/register\"\n",
    "data = {\n",
    "    \"name\": \"John Doe\",\n",
    "    \"email\": \"john.doe@example.com\",\n",
    "    \"password\": \"password123\"\n",
    "}\n",
    "\n",
    "response = requests.post(url, json=data)\n",
    "print(response.json())"
   ]
  },
  {
   "cell_type": "markdown",
   "metadata": {},
   "source": [
    "3. 경로 검색 요청"
   ]
  },
  {
   "cell_type": "code",
   "execution_count": null,
   "metadata": {},
   "outputs": [],
   "source": [
    "import requests\n",
    "url = \"http://219.254.182.113:5000/route/search\"\n",
    "params = {\n",
    "    \"start_x\": \"127.027640\",\n",
    "    \"start_y\": \"37.497942\",\n",
    "    \"end_x\": str(longitude),\n",
    "    \"end_y\": str(latitude)\n",
    "}\n",
    "\n",
    "response = requests.get(url, params=params)\n",
    "print(response.json())"
   ]
  }
 ],
 "metadata": {
  "kernelspec": {
   "display_name": "mapper",
   "language": "python",
   "name": "python3"
  },
  "language_info": {
   "codemirror_mode": {
    "name": "ipython",
    "version": 3
   },
   "file_extension": ".py",
   "mimetype": "text/x-python",
   "name": "python",
   "nbconvert_exporter": "python",
   "pygments_lexer": "ipython3",
   "version": "3.9.21"
  }
 },
 "nbformat": 4,
 "nbformat_minor": 2
}
