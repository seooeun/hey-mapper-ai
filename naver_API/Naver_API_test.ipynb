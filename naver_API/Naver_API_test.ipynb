{
 "cells": [
  {
   "cell_type": "markdown",
   "metadata": {
    "vscode": {
     "languageId": "plaintext"
    }
   },
   "source": [
    "## 2. Naver 오픈 API\n",
    "---"
   ]
  },
  {
   "cell_type": "markdown",
   "metadata": {},
   "source": [
    "계획: <br> \n",
    "1. 네이버 오픈 검색 API를 사용하여 장소명을 좌표로 반환.\n",
    "2. 좌표값으로 경로 검색 요청."
   ]
  },
  {
   "cell_type": "code",
   "execution_count": 17,
   "metadata": {},
   "outputs": [],
   "source": [
    "import os \n",
    "import sys\n",
    "import json\n",
    "import urllib.request\n",
    "from dotenv import load_dotenv # 환경 변수 관리 라이브러리"
   ]
  },
  {
   "cell_type": "code",
   "execution_count": 18,
   "metadata": {},
   "outputs": [
    {
     "data": {
      "text/plain": [
       "True"
      ]
     },
     "execution_count": 18,
     "metadata": {},
     "output_type": "execute_result"
    }
   ],
   "source": [
    "load_dotenv()"
   ]
  },
  {
   "cell_type": "code",
   "execution_count": 19,
   "metadata": {},
   "outputs": [],
   "source": [
    "client_id = os.getenv('NAVER_CLIENT_ID')\n",
    "client_secret = os.getenv('NAVER_CLIENT_SECRET_ID')"
   ]
  },
  {
   "cell_type": "markdown",
   "metadata": {},
   "source": [
    "### 1. 네이버 오픈 검색 API를 사용하여 장소명을 좌표로 반환."
   ]
  },
  {
   "cell_type": "code",
   "execution_count": 20,
   "metadata": {},
   "outputs": [],
   "source": [
    "query = \"경남대학교정문\"  # 검색할 장소명"
   ]
  },
  {
   "cell_type": "code",
   "execution_count": 21,
   "metadata": {},
   "outputs": [],
   "source": [
    "# URL 인코딩\n",
    "encText = urllib.parse.quote(query)\n",
    "url = \"https://openapi.naver.com/v1/search/local.json?query=\" + encText # JSON 결과\n",
    "# url = \"https://openapi.naver.com/v1/search/local.xml?query=\" + encText # XML 결과\n",
    "\n",
    "# 요청\n",
    "request = urllib.request.Request(url)\n",
    "request.add_header(\"X-Naver-Client-Id\",client_id)\n",
    "request.add_header(\"X-Naver-Client-Secret\",client_secret)\n",
    "\n",
    "# API 호출\n",
    "response = urllib.request.urlopen(request)\n",
    "rescode = response.getcode()"
   ]
  },
  {
   "cell_type": "code",
   "execution_count": 22,
   "metadata": {},
   "outputs": [],
   "source": [
    "if(rescode==200):\n",
    "    response_body = response.read()\n",
    "    data = json.loads(response_body.decode('utf-8'))  # jason -> dict 변환\n",
    "    # if \"items\" in data and len(data[\"items\"]) > 0:\n",
    "    \n",
    "else:\n",
    "    print(\"Error Code:\" + rescode)"
   ]
  },
  {
   "cell_type": "code",
   "execution_count": 29,
   "metadata": {},
   "outputs": [
    {
     "data": {
      "text/plain": [
       "{'lastBuildDate': 'Wed, 05 Mar 2025 17:06:32 +0900',\n",
       " 'total': 1,\n",
       " 'start': 1,\n",
       " 'display': 1,\n",
       " 'items': [{'title': '<b>경남대학교정문</b>',\n",
       "   'link': '',\n",
       "   'category': '도로시설>방면정보',\n",
       "   'description': '',\n",
       "   'telephone': '',\n",
       "   'address': '경상남도 창원시 마산합포구 월영동',\n",
       "   'roadAddress': '',\n",
       "   'mapx': '1285570100',\n",
       "   'mapy': '351807521'}]}"
      ]
     },
     "execution_count": 29,
     "metadata": {},
     "output_type": "execute_result"
    }
   ],
   "source": [
    "# 검색 결과\n",
    "data"
   ]
  },
  {
   "cell_type": "code",
   "execution_count": 30,
   "metadata": {},
   "outputs": [
    {
     "name": "stdout",
     "output_type": "stream",
     "text": [
      "장소명: 경남대학교정문\n",
      "주소: 경상남도 창원시 마산합포구 월영동\n",
      "위도(mapy): 351807521\n",
      "경도(mapx): 1285570100\n"
     ]
    }
   ],
   "source": [
    "# 좌표값 추출\n",
    "place = data[\"items\"][0]  # 첫 번째 검색 결과\n",
    "name = place[\"title\"].replace(\"<b>\", \"\").replace(\"</b>\", \"\")  # HTML 태그 제거\n",
    "address = place[\"address\"]\n",
    "mapx = place[\"mapx\"]\n",
    "mapy = place[\"mapy\"]\n",
    "\n",
    "print(f\"장소명: {name}\")\n",
    "print(f\"주소: {address}\")\n",
    "print(f\"위도(mapy): {mapy}\")\n",
    "print(f\"경도(mapx): {mapx}\")\n"
   ]
  },
  {
   "cell_type": "code",
   "execution_count": 27,
   "metadata": {},
   "outputs": [
    {
     "name": "stdout",
     "output_type": "stream",
     "text": [
      "변환된 위도: 35.1807521, 변환된 경도: 128.55701\n"
     ]
    }
   ],
   "source": [
    "# 좌표값 타입을 str에서 float로 변환환\n",
    "longitude = float(mapx) / 10**7\n",
    "latitude = float(mapy) / 10**7\n",
    "\n",
    "print(f\"변환된 위도: {latitude}, 변환된 경도: {longitude}\")"
   ]
  }
 ],
 "metadata": {
  "kernelspec": {
   "display_name": "mapper",
   "language": "python",
   "name": "python3"
  },
  "language_info": {
   "codemirror_mode": {
    "name": "ipython",
    "version": 3
   },
   "file_extension": ".py",
   "mimetype": "text/x-python",
   "name": "python",
   "nbconvert_exporter": "python",
   "pygments_lexer": "ipython3",
   "version": "3.9.21"
  }
 },
 "nbformat": 4,
 "nbformat_minor": 2
}
