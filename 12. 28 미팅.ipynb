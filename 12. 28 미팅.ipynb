{
 "cells": [
  {
   "cell_type": "markdown",
   "id": "f7ec8ad3-1bc1-485e-9dad-72899dd2bfa1",
   "metadata": {},
   "source": [
    "## 12. 28 미팅 \n",
    "---\n",
    "1. 사용자 음성 녹음\n",
    "2. 음성 변환\n",
    "3. GPT 테스트"
   ]
  },
  {
   "cell_type": "code",
   "execution_count": 1,
   "id": "1f554e1c-d232-4a12-a997-44f3447e93ac",
   "metadata": {},
   "outputs": [],
   "source": [
    "from gtts import gTTS\n",
    "from IPython.display import Audio \n",
    "from playsound import playsound\n",
    "import speech_recognition as sr\n",
    "import os"
   ]
  },
  {
   "cell_type": "code",
   "execution_count": 2,
   "id": "ecfc60ba-2531-4345-a88a-9e103acacbfd",
   "metadata": {},
   "outputs": [],
   "source": [
    "r = sr.Recognizer()"
   ]
  },
  {
   "cell_type": "code",
   "execution_count": 3,
   "id": "eb7d7ac2-2bd0-4c4a-9689-37602b25eb77",
   "metadata": {},
   "outputs": [
    {
     "name": "stdout",
     "output_type": "stream",
     "text": [
      "음성변환 결과:  안녕하세요\n"
     ]
    }
   ],
   "source": [
    "# 사용자 음성 입력 (input)\n",
    "mic = sr.Microphone(device_index = 1) # 마이크 \n",
    "with mic as source:\n",
    "    r.adjust_for_ambient_noise(source) # 주변 소음 제거\n",
    "    audio = r.listen(source, timeout = 5, phrase_time_limit = 5)\n",
    "try: \n",
    "    # 사용자 음성 변환 (output)\n",
    "    result = r.recognize_google(audio, language = \"ko-KR\")\n",
    "    print('음성변환 결과: ', result)\n",
    "\n",
    "except speech_recognition.UnknownValueError:\n",
    "    print(\"다시 말해주세요\") # 음성 변환 실패\n",
    "    # display(Audio('../다시 말해주세요.wav', autoplay=True))\n",
    "except speech_recognition.RequestError:\n",
    "    print(\"HTTP Request Error 발생\")\n",
    "except speech_recognition.WaitTimeoutError:\n",
    "    print(\"WaitTimeout Error 발생\")"
   ]
  },
  {
   "cell_type": "code",
   "execution_count": null,
   "id": "dfa09c68-4cf5-464e-b15a-36fd61c9ae9b",
   "metadata": {},
   "outputs": [],
   "source": []
  }
 ],
 "metadata": {
  "kernelspec": {
   "display_name": "Python 3 (ipykernel)",
   "language": "python",
   "name": "python3"
  },
  "language_info": {
   "codemirror_mode": {
    "name": "ipython",
    "version": 3
   },
   "file_extension": ".py",
   "mimetype": "text/x-python",
   "name": "python",
   "nbconvert_exporter": "python",
   "pygments_lexer": "ipython3",
   "version": "3.9.21"
  }
 },
 "nbformat": 4,
 "nbformat_minor": 5
}
