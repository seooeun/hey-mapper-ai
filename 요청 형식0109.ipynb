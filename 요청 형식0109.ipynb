{
 "cells": [
  {
   "cell_type": "markdown",
   "metadata": {},
   "source": [
    "1. 회원가입\n",
    "요청\n",
    "URL: POST /register\n",
    "HTTP Body (JSON):\n",
    "json\n",
    "{\n",
    "    \"name\": \"John Doe\",\n",
    "    \"email\": \"john.doe@example.com\",\n",
    "    \"password\": \"password123\"\n",
    "}"
   ]
  },
  {
   "cell_type": "code",
   "execution_count": null,
   "metadata": {},
   "outputs": [
    {
     "name": "stdout",
     "output_type": "stream",
     "text": [
      "{'error': '이미 존재하는 이메일입니다'}\n"
     ]
    }
   ],
   "source": [
    "import requests\n",
    "# 219.254.182.113:5000\n",
    "# localhost:5000\n",
    "url = \"http://219.254.182.113:5000/register\"\n",
    "data = {\n",
    "    \"name\": \"John Doe\",\n",
    "    \"email\": \"john.doe@example.com\",\n",
    "    \"password\": \"password123\"\n",
    "}\n",
    "\n",
    "response = requests.post(url, json=data)\n",
    "print(response.json())\n"
   ]
  },
  {
   "cell_type": "markdown",
   "metadata": {},
   "source": [
    "2. 로그인\n",
    "요청\n",
    "URL: POST /login\n",
    "HTTP Body (JSON):\n",
    "json\n",
    "{\n",
    "    \"email\": \"john.doe@example.com\",\n",
    "    \"password\": \"password123\"\n",
    "}"
   ]
  },
  {
   "cell_type": "code",
   "execution_count": 7,
   "metadata": {},
   "outputs": [
    {
     "name": "stdout",
     "output_type": "stream",
     "text": [
      "{'message': '로그인 성공', 'user_id': '677eb4220db52d1a1838cd28'}\n"
     ]
    }
   ],
   "source": [
    "import requests\n",
    "\n",
    "url = \"http://219.254.182.113:5000/login\"\n",
    "data = {\n",
    "    \"email\": \"john.doe@example.com\",\n",
    "    \"password\": \"password123\"\n",
    "}\n",
    "\n",
    "response = requests.post(url, json=data)\n",
    "print(response.json())\n"
   ]
  },
  {
   "cell_type": "markdown",
   "metadata": {},
   "source": [
    "3. 경로 검색\n",
    "요청\n",
    "URL: GET /route/search\n",
    "Query Parameters:\n",
    "start_x: 시작 경도의 값 (예: 127.027640)\n",
    "start_y: 시작 위도의 값 (예: 37.497942)\n",
    "end_x: 도착 경도의 값 (예: 127.038940)\n",
    "end_y: 도착 위도의 값 (예: 37.501882)"
   ]
  },
  {
   "cell_type": "code",
   "execution_count": 8,
   "metadata": {},
   "outputs": [
    {
     "name": "stdout",
     "output_type": "stream",
     "text": [
      "{'code': 0, 'currentDateTime': '2025-01-09T14:43:00', 'message': '길찾기를 성공하였습니다.', 'route': {'trafast': [{'guide': [{'distance': 194, 'duration': 24878, 'instructions': \"'강남대로55길' 방면으로 우회전\", 'pointIndex': 7, 'type': 3}, {'distance': 232, 'duration': 46217, 'instructions': \"'서초대로72길' 방면으로 우회전\", 'pointIndex': 24, 'type': 3}, {'distance': 187, 'duration': 67313, 'instructions': \"'서초대로' 방면으로 우회전\", 'pointIndex': 39, 'type': 3}, {'distance': 1593, 'duration': 572580, 'instructions': '센터필드교차로에서 유턴', 'pointIndex': 84, 'type': 6}, {'distance': 280, 'duration': 58113, 'instructions': \"'테헤란로29길' 방면으로 우회전\", 'pointIndex': 89, 'type': 3}, {'distance': 40, 'duration': 13090, 'instructions': '목적지', 'pointIndex': 91, 'type': 88}], 'path': [[127.0276457, 37.4979414], [127.0276854, 37.4977513], [127.0278733, 37.4973735], [127.0278963, 37.4973078], [127.0280697, 37.4969101], [127.0281843, 37.4966645], [127.028197, 37.4966366], [127.0283598, 37.4962911], [127.0281644, 37.4962318], [127.0277669, 37.4961229], [127.0276958, 37.4961028], [127.0275806, 37.4960663], [127.0273265, 37.4959922], [127.0272373, 37.4959667], [127.0270217, 37.4959], [127.0268455, 37.4958461], [127.0268229, 37.4958388], [127.0267179, 37.4958059], [127.0267078, 37.4958032], [127.0265982, 37.4957712], [127.0263826, 37.4957045], [127.0262979, 37.4956781], [127.0259818, 37.4955803], [127.0259231, 37.495563], [127.0258993, 37.4955566], [127.0258764, 37.4956025], [127.0258638, 37.4956285], [127.0258249, 37.4957041], [127.0258043, 37.4957455], [127.0257561, 37.4958435], [127.0257378, 37.4958804], [127.0256174, 37.4961323], [127.0256002, 37.4961674], [127.0255441, 37.4962835], [127.025512, 37.4963509], [127.0255039, 37.4963662], [127.0254684, 37.4964355], [127.0254467, 37.4964787], [127.0251886, 37.4970419], [127.025145, 37.4971282], [127.0255334, 37.4972488], [127.0258078, 37.4973337], [127.0260641, 37.4974113], [127.0269155, 37.4976707], [127.02699, 37.4976927], [127.0271244, 37.4977338], [127.0274417, 37.4978297], [127.0275083, 37.4978498], [127.0275309, 37.4978571], [127.0276201, 37.4978836], [127.0277804, 37.4979347], [127.0282715, 37.4980881], [127.0283686, 37.4981182], [127.0287277, 37.4982305], [127.0288022, 37.4982533], [127.0294548, 37.4984578], [127.0299336, 37.4986031], [127.0302566, 37.498699], [127.0309363, 37.498909], [127.0310741, 37.4989492], [127.0313078, 37.499025], [127.0320146, 37.4992387], [127.0328163, 37.499496], [127.0331246, 37.4995892], [127.0332284, 37.4996248], [127.0339714, 37.499853], [127.0344626, 37.4999992], [127.0346976, 37.500065], [127.035191, 37.5002184], [127.0354292, 37.5002968], [127.0359137, 37.5004393], [127.036371, 37.50058], [127.0364218, 37.5005946], [127.0367459, 37.5006896], [127.0368736, 37.5007279], [127.0368984, 37.5007353], [127.0369639, 37.5007571], [127.0371694, 37.5008147], [127.0377319, 37.5009756], [127.0384364, 37.5011992], [127.0398367, 37.5016247], [127.040014, 37.501683], [127.0404996, 37.5018318], [127.0412325, 37.5020537], [127.0419665, 37.5022792], [127.0419046, 37.5024052], [127.0411423, 37.5021733], [127.0399578, 37.5018018], [127.0397692, 37.5017461], [127.0391018, 37.5015479], [127.0390468, 37.5016576], [127.0389312, 37.501878]], 'section': [{'congestion': 3, 'distance': 235, 'name': '서초대로', 'pointCount': 11, 'pointIndex': 39, 'speed': 4}, {'congestion': 2, 'distance': 1358, 'name': '테헤란로', 'pointCount': 36, 'pointIndex': 49, 'speed': 13}, {'congestion': 2, 'distance': 265, 'name': '테헤란로', 'pointCount': 5, 'pointIndex': 85, 'speed': 17}], 'summary': {'bbox': [[127.025145, 37.4955566], [127.0419665, 37.5024052]], 'departureTime': '2025-01-09T14:43:00', 'distance': 2526, 'duration': 782191, 'fuelPrice': 305, 'goal': {'dir': 2, 'location': [127.0389391, 37.5018817]}, 'start': {'location': [127.0276389, 37.4979413]}, 'taxiFare': 6100, 'tollFare': 0}}]}}\n"
     ]
    }
   ],
   "source": [
    "import requests\n",
    "\n",
    "url = \"http://219.254.182.113:5000/route/search\"\n",
    "params = {\n",
    "    \"start_x\": \"127.027640\",\n",
    "    \"start_y\": \"37.497942\",\n",
    "    \"end_x\": \"127.038940\",\n",
    "    \"end_y\": \"37.501882\"\n",
    "}\n",
    "\n",
    "response = requests.get(url, params=params)\n",
    "print(response.json())\n"
   ]
  },
  {
   "cell_type": "markdown",
   "metadata": {},
   "source": [
    "4. 주소 → 좌표 변환\n",
    "요청\n",
    "URL: GET /geocode/address\n",
    "Query Parameters:\n",
    "address: 주소 문자열 (예: 서울특별시 강남구)"
   ]
  },
  {
   "cell_type": "code",
   "execution_count": 9,
   "metadata": {},
   "outputs": [
    {
     "name": "stdout",
     "output_type": "stream",
     "text": [
      "{'addresses': [{'addressElements': [{'code': '', 'longName': '서울특별시', 'shortName': '서울특별시', 'types': ['SIDO']}, {'code': '', 'longName': '강남구', 'shortName': '강남구', 'types': ['SIGUGUN']}, {'code': '', 'longName': '', 'shortName': '', 'types': ['DONGMYUN']}, {'code': '', 'longName': '', 'shortName': '', 'types': ['RI']}, {'code': '', 'longName': '', 'shortName': '', 'types': ['ROAD_NAME']}, {'code': '', 'longName': '', 'shortName': '', 'types': ['BUILDING_NUMBER']}, {'code': '', 'longName': '', 'shortName': '', 'types': ['BUILDING_NAME']}, {'code': '', 'longName': '', 'shortName': '', 'types': ['LAND_NUMBER']}, {'code': '', 'longName': '', 'shortName': '', 'types': ['POSTAL_CODE']}], 'distance': 0.0, 'englishAddress': 'Gangnam-gu, Seoul, Republic of Korea', 'jibunAddress': '서울특별시 강남구', 'roadAddress': '서울특별시 강남구', 'x': '127.047502', 'y': '37.517305'}], 'errorMessage': '', 'meta': {'count': 1, 'page': 1, 'totalCount': 1}, 'status': 'OK'}\n"
     ]
    }
   ],
   "source": [
    "import requests\n",
    "\n",
    "url = \"http://219.254.182.113:5000/geocode/address\"\n",
    "params = {\"address\": \"서울특별시 강남구\"}\n",
    "\n",
    "response = requests.get(url, params=params)\n",
    "print(response.json())\n"
   ]
  },
  {
   "cell_type": "markdown",
   "metadata": {},
   "source": [
    "5. 좌표 → 주소 변환\n",
    "요청\n",
    "URL: GET /geocode/coordinates\n",
    "Query Parameters:\n",
    "latitude: 위도 값 (예: 37.497942)\n",
    "longitude: 경도 값 (예: 127.027640)"
   ]
  },
  {
   "cell_type": "code",
   "execution_count": 11,
   "metadata": {},
   "outputs": [
    {
     "name": "stdout",
     "output_type": "stream",
     "text": [
      "{'results': [{'code': {'id': '1168010100', 'mappingId': '09680101', 'type': 'L'}, 'land': {'addition0': {'type': '', 'value': ''}, 'addition1': {'type': '', 'value': ''}, 'addition2': {'type': '', 'value': ''}, 'addition3': {'type': '', 'value': ''}, 'addition4': {'type': '', 'value': ''}, 'coords': {'center': {'crs': '', 'x': 0.0, 'y': 0.0}}, 'number1': '858', 'number2': '', 'type': '1'}, 'name': 'addr', 'region': {'area0': {'coords': {'center': {'crs': '', 'x': 0.0, 'y': 0.0}}, 'name': 'kr'}, 'area1': {'alias': '서울', 'coords': {'center': {'crs': 'EPSG:4326', 'x': 126.978388, 'y': 37.56661}}, 'name': '서울특별시'}, 'area2': {'coords': {'center': {'crs': 'EPSG:4326', 'x': 127.047502, 'y': 37.517305}}, 'name': '강남구'}, 'area3': {'coords': {'center': {'crs': 'EPSG:4326', 'x': 127.033357, 'y': 37.495484}}, 'name': '역삼동'}, 'area4': {'coords': {'center': {'crs': '', 'x': 0.0, 'y': 0.0}}, 'name': ''}}}], 'status': {'code': 0, 'message': 'done', 'name': 'ok'}}\n"
     ]
    }
   ],
   "source": [
    "import requests\n",
    "\n",
    "url = \"http://219.254.182.113:5000/geocode/coordinates\"\n",
    "params = {\n",
    "    \"latitude\": \"37.497942\",\n",
    "    \"longitude\": \"127.027640\"\n",
    "}\n",
    "\n",
    "response = requests.get(url, params=params)\n",
    "print(response.json())\n"
   ]
  },
  {
   "cell_type": "markdown",
   "metadata": {},
   "source": [
    "6. 경로 저장\n",
    "요청\n",
    "URL: POST /route/save\n",
    "HTTP Body (JSON):\n",
    "json\n",
    "{\n",
    "    \"user_id\": \"64f5e88df2c4e\",\n",
    "    \"route_data\": {\n",
    "        \"start\": {\"x\": \"127.027640\", \"y\": \"37.497942\"},\n",
    "        \"end\": {\"x\": \"127.038940\", \"y\": \"37.501882\"},\n",
    "        \"path\": [\"경유지1\", \"경유지2\"],\n",
    "        \"priority\": \"FASTEST\"\n",
    "    }\n",
    "}"
   ]
  },
  {
   "cell_type": "code",
   "execution_count": 12,
   "metadata": {},
   "outputs": [
    {
     "name": "stdout",
     "output_type": "stream",
     "text": [
      "{'message': '경로 저장 완료', 'route_id': '677f621dfb6946200d1c0f1f'}\n"
     ]
    }
   ],
   "source": [
    "import requests\n",
    "\n",
    "url = \"http://219.254.182.113:5000/route/save\"\n",
    "data = {\n",
    "    \"user_id\": \"64f5e88df2c4e\",\n",
    "    \"route_data\": {\n",
    "        \"start\": {\"x\": \"127.027640\", \"y\": \"37.497942\"},\n",
    "        \"end\": {\"x\": \"127.038940\", \"y\": \"37.501882\"},\n",
    "        \"path\": [\"경유지1\", \"경유지2\"],\n",
    "        \"priority\": \"FASTEST\"\n",
    "    }\n",
    "}\n",
    "\n",
    "response = requests.post(url, json=data)\n",
    "print(response.json())"
   ]
  },
  {
   "cell_type": "markdown",
   "metadata": {},
   "source": [
    "7. 특정 사용자 경로 조회\n",
    "요청\n",
    "URL: GET /routes/<user_id>"
   ]
  },
  {
   "cell_type": "code",
   "execution_count": 13,
   "metadata": {},
   "outputs": [
    {
     "name": "stdout",
     "output_type": "stream",
     "text": [
      "[{'_id': {'$oid': '677eb43b0db52d1a1838cd29'}, 'user_id': '64f5e88df2c4e', 'route_data': {'start': {'x': '127.027640', 'y': '37.497942'}, 'end': {'x': '127.038940', 'y': '37.501882'}, 'path': ['경유지1', '경유지2'], 'priority': 'FASTEST'}}, {'_id': {'$oid': '677f621dfb6946200d1c0f1f'}, 'user_id': '64f5e88df2c4e', 'route_data': {'start': {'x': '127.027640', 'y': '37.497942'}, 'end': {'x': '127.038940', 'y': '37.501882'}, 'path': ['경유지1', '경유지2'], 'priority': 'FASTEST'}}]\n"
     ]
    }
   ],
   "source": [
    "import requests\n",
    "\n",
    "url = \"http://219.254.182.113:5000/routes/64f5e88df2c4e\"\n",
    "\n",
    "response = requests.get(url)\n",
    "print(response.json())\n"
   ]
  },
  {
   "cell_type": "markdown",
   "metadata": {},
   "source": [
    "8. 상점 추가\n",
    "요청\n",
    "URL: POST /store\n",
    "HTTP Body (JSON):\n",
    "{\n",
    "    \"name\": \"Smart Glasses Store\",\n",
    "    \"location\": {\n",
    "        \"type\": \"Point\",\n",
    "        \"coordinates\": [127.027640, 37.497942]\n",
    "    },\n",
    "    \"products\": [\"스마트 안경\", \"액세서리\", \"충전기\"],\n",
    "    \"hours\": \"09:00-20:00\"\n",
    "}\n"
   ]
  },
  {
   "cell_type": "code",
   "execution_count": 14,
   "metadata": {},
   "outputs": [
    {
     "name": "stdout",
     "output_type": "stream",
     "text": [
      "{'message': '상점 추가 완료', 'store_id': '677f622afb6946200d1c0f20'}\n"
     ]
    }
   ],
   "source": [
    "import requests\n",
    "\n",
    "url = \"http://219.254.182.113:5000/store\"\n",
    "data = {\n",
    "    \"name\": \"Smart Glasses Store\",\n",
    "    \"location\": {\n",
    "        \"type\": \"Point\",\n",
    "        \"coordinates\": [127.027640, 37.497942]\n",
    "    },\n",
    "    \"products\": [\"스마트 안경\", \"액세서리\", \"충전기\"],\n",
    "    \"hours\": \"09:00-20:00\"\n",
    "}\n",
    "\n",
    "response = requests.post(url, json=data)\n",
    "print(response.json())\n"
   ]
  },
  {
   "cell_type": "markdown",
   "metadata": {},
   "source": [
    "9. 특정 지역의 상점 조회\n",
    "요청\n",
    "URL: GET /stores/location\n",
    "Query Parameters:\n",
    "latitude: 기준 위도 값\n",
    "longitude: 기준 경도 값\n",
    "radius: 반경 거리 (기본값 5km)"
   ]
  },
  {
   "cell_type": "code",
   "execution_count": 15,
   "metadata": {},
   "outputs": [
    {
     "name": "stdout",
     "output_type": "stream",
     "text": [
      "[{'_id': {'$oid': '677eb4400db52d1a1838cd2a'}, 'name': 'Smart Glasses Store', 'location': {'type': 'Point', 'coordinates': [127.02764, 37.497942]}, 'products': ['스마트 안경', '액세서리', '충전기'], 'hours': '09:00-20:00'}, {'_id': {'$oid': '677f622afb6946200d1c0f20'}, 'name': 'Smart Glasses Store', 'location': {'type': 'Point', 'coordinates': [127.02764, 37.497942]}, 'products': ['스마트 안경', '액세서리', '충전기'], 'hours': '09:00-20:00'}]\n"
     ]
    }
   ],
   "source": [
    "import requests\n",
    "\n",
    "url = \"http://219.254.182.113:5000/stores/location\"\n",
    "params = {\n",
    "    \"latitude\": \"37.497942\",\n",
    "    \"longitude\": \"127.027640\",\n",
    "    \"radius\": 5\n",
    "}\n",
    "\n",
    "response = requests.get(url, params=params)\n",
    "print(response.json())\n"
   ]
  },
  {
   "cell_type": "markdown",
   "metadata": {},
   "source": [
    "10. 특정 상점 상세 조회\n",
    "요청\n",
    "URL: GET /store/<store_id>"
   ]
  },
  {
   "cell_type": "code",
   "execution_count": 16,
   "metadata": {},
   "outputs": [
    {
     "name": "stdout",
     "output_type": "stream",
     "text": [
      "{'error': '상점을 찾을 수 없습니다'}\n"
     ]
    }
   ],
   "source": [
    "import requests\n",
    "\n",
    "url = \"http://219.254.182.113:5000/store/676e33cff2326f230056d0fa\"\n",
    "\n",
    "response = requests.get(url)\n",
    "print(response.json())\n"
   ]
  },
  {
   "cell_type": "code",
   "execution_count": null,
   "metadata": {},
   "outputs": [],
   "source": []
  }
 ],
 "metadata": {
  "kernelspec": {
   "display_name": "mapper",
   "language": "python",
   "name": "python3"
  },
  "language_info": {
   "codemirror_mode": {
    "name": "ipython",
    "version": 3
   },
   "file_extension": ".py",
   "mimetype": "text/x-python",
   "name": "python",
   "nbconvert_exporter": "python",
   "pygments_lexer": "ipython3",
   "version": "3.9.21"
  }
 },
 "nbformat": 4,
 "nbformat_minor": 2
}
